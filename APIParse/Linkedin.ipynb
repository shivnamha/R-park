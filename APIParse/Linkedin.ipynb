{
 "metadata": {
  "name": "",
  "signature": "sha256:24e5424d8ff0fc15abc4793fd0a756bf4405461d0801b453eb53c0da0a9f638d"
 },
 "nbformat": 3,
 "nbformat_minor": 0,
 "worksheets": [
  {
   "cells": [
    {
     "cell_type": "code",
     "collapsed": false,
     "input": [
      "import json\n",
      "import pandas as pd\n",
      "import os.path \n",
      "os.path.join('/home/chetan/Toll-Gate-Data-APP/Code/')\n",
      "data = json.loads(open(\"Parser/linkedin_conn-chetan.json\",'r').read())\n",
      "DFrame = pd.DataFrame([])\n",
      "DFrame = DFrame.append(pd.DataFrame(data['values']))\n",
      "data = json.loads(open(\"Parser/linkedin_conn-rohit.json\",'r').read())\n",
      "DFrame = pd.concat([DFrame,pd.DataFrame(data['values'])],  ignore_index=True)\n",
      "data = json.loads(open(\"Parser/linkedin_conn-sapna.json\",'r').read())\n",
      "DFrame = pd.concat([DFrame,pd.DataFrame(data['values'])],  ignore_index=True)\n",
      "print len(DFrame)"
     ],
     "language": "python",
     "metadata": {},
     "outputs": [
      {
       "output_type": "stream",
       "stream": "stdout",
       "text": [
        "4017\n"
       ]
      }
     ],
     "prompt_number": 3
    },
    {
     "cell_type": "code",
     "collapsed": false,
     "input": [
      "#apiStandardProfileRequest firstName headline       id industry lastName  \\\n",
      "#0                       NaN   private      NaN  private      NaN  private   \n",
      "\n",
      "#  location pictureUrl siteStandardProfileRequest \n",
      "\n",
      "# Printing VC List available on Linkedin Profile and return VC- linkedin Id\n",
      "import re\n",
      "\n",
      "def VC_ids(Frame):\n",
      "    count = 0\n",
      "    ids = []\n",
      "    id_frame = pd.DataFrame([])\n",
      "    reg = re.compile(r'.*Venture.*', re.M) #VentureCapital \\& Private Equity|Fund\\-Raising\n",
      "    founder = re.compile(r'.*Founder.*',re.M | re.I)\n",
      "    CEO = re.compile(r'.[CEO|CIO|CTO].*', re.M)\n",
      "    reg_id = re.compile(r'.*id=(\\d+)&.*',re.M | re.I)\n",
      "    for i in Frame.index:\n",
      "        #key = Frame.ix[i]\n",
      "        res = Frame['industry'][i]\n",
      "        headline = Frame['headline'][i]\n",
      "        #print headline\n",
      "        if type(res) == type(1.1) or type(res) == type(pd.Series()):  #remove float values\n",
      "            continue\n",
      "        val = reg.match(res)\n",
      "    #    if not val:\n",
      "    #        val = founder.match(headline)\n",
      "   #     if not val:\n",
      "   #         val = CEO.match(headline) \n",
      "        \n",
      "        if (val):\n",
      "            count+= 1\n",
      "            print str(count) + \"|  \" + str(i)  + \"|  \" + Frame['firstName'][i] + \" \" + Frame['lastName'][i] + \"|||    \" + Frame['headline'][i]\n",
      "            #m_id = Frame['id'][i]i\n",
      "            #if not Frame[\"siteStandardProfileRequest\"][i].has_key(\"url\"):\n",
      "            #    continue\n",
      "            #mid= reg_id.match(Frame[\"siteStandardProfileRequest\"][i][\"url\"])\n",
      "            #if mid:\n",
      "            #    mid.group(1)\n",
      "            #    ids.append({mid.group(1):m_id})\n",
      "            id_frame = id_frame.append(Frame.ix[i])\n",
      "            #print Frame.loc[i]\n",
      "    return id_frame\n",
      "ids = pd.DataFrame([])\n",
      "ids = ids.append(VC_ids(DFrame))\n",
      "\n",
      "#print pd.DataFrame(pd.read_json(ids.to_json()))\n",
      "fd = open(\"linkedin-VC.json\",'w')\n",
      "fd.write(json.dumps(ids.to_json(),indent=1))\n",
      "fd.close()\n",
      "print len(ids)"
     ],
     "language": "python",
     "metadata": {},
     "outputs": [
      {
       "output_type": "stream",
       "stream": "stdout",
       "text": [
        "1|  3|  Andy Ball|||    Private Investor [LION 33.0K]\n",
        "2|  26|  Mahesh Murthy|||    Venture capitalist, brand guy, speaker on all things digital. Managing Partner at Seedfund and Founder at Pinstorm\n",
        "3|  139|  Arvind Sehgal|||    Founder, CEO - New Era, Serial Entrepreneur, Venture Catalyst & Investor\n",
        "4|  145|  Sameer Brij Verma|||    Early Stage Venture Investor in Data, Mobile & Cloud\n",
        "5|  161|  Venugopal Sathyanarayana|||    Entrepreneur, Mentor& Investor. VC at Orios Venture Partners\n",
        "6|  215|  Amitabh Shrivastava|||    Member IAN, & CEO at CSIR-Tech\n",
        "7|  237|  Sanjay Anandaram|||    Venture Partner, Seed Fund; Advisor at Ojas Venture Partners\n",
        "8|  254|  SRINIVASA Aluri|||    Managing Director, Private Equity,Morgan Stanley\n",
        "9|  271|  Mukul Arora|||    Vice President at SAIF Partners"
       ]
      },
      {
       "output_type": "stream",
       "stream": "stdout",
       "text": [
        "\n",
        "10|  299|  Asheem Chandna|||    Company Builder and Investor - Partner, Greylock Partners\n",
        "11|  327|  Raj Chinai|||    Business Development Exec | Venture Advisor\n",
        "12|  339|  Sunil Goyal|||    Founder & CEO at YourNest Angel Fund\n",
        "13|  363|  Rahul Chowdhri|||    Partner at Helion Ventures\n",
        "14|  382|  Palaniswamy Rajan|||    Serial Entrepreneur & Investor\n",
        "15|  413|  Manish Singhal|||    Entrepreneur. Advisor. Angel Investor\n",
        "16|  482|  Jinesh Shah|||    Investor at Y-Cook\n",
        "17|  492|  Parag Dhol|||    Venture Capital at Inventus\n",
        "18|  520|  Palak Dalal|||    Investment Professional"
       ]
      },
      {
       "output_type": "stream",
       "stream": "stdout",
       "text": [
        "\n",
        "19|  566|  Navin Honagudi|||    Venture Capital\n",
        "20|  574|  Prajakt Raut|||    Co-founder at Applyifi and founder The Hub for Startups\n",
        "21|  583|  Nitin Sharma|||    Principal & Founding Member, Lightbox Ventures\n",
        "22|  588|  Rupinder Singh|||    Technology and Alternative Investment Management\n",
        "23|  611|  Nagaraja (Naga) Prakasam|||    Farmer - Growing startups!\n",
        "24|  617|  Jeb Miller|||    General Partner at Jafco Ventures\n",
        "25|  637|  Ryan Floyd|||    Managing Director Storm Ventures\n",
        "26|  708|  Shailesh Vikram Singh|||    Venture Capital & Private Equity Professional\n",
        "27|  714|  Anand Lunia|||    Founder, IndiaQuotient, seed stage venture capital"
       ]
      },
      {
       "output_type": "stream",
       "stream": "stdout",
       "text": [
        "\n",
        "28|  719|  Maninder Gulati|||    Vice President at Lightspeed India\n",
        "29|  725|  Sonia Shah|||    Investment Banking - Private Equity at Infinite Capital Partners\n",
        "30|  730|  Venkatesh Peddi|||    Venture Capitalist\n",
        "31|  771|  Mayank Khanduja|||    Vice President at SAIF Partners; Venture Investor - Tech Startups\n",
        "32|  780|  Mohan Kumar|||    Partner at Norwest Venture Partners\n",
        "33|  783|  Anil Paranjape|||    VC and Entrepreneur with broad experience across geographies and verticals\n",
        "34|  834|  GenNext Innovation Hub|||    Innovation Hub at Gennext Ventures\n",
        "35|  994|  Paras Arora|||    Angel Investor, Investment Advisory and Venture Management"
       ]
      },
      {
       "output_type": "stream",
       "stream": "stdout",
       "text": [
        "\n",
        "36|  1052|  Mark Bagley|||    VP, Innovation Scouting, BT. Involving Business Development, Marketing, early stage investment, acquisitions, start-ups\n",
        "37|  1601|  Michael Kim|||    Senior Associate at Rogers Venture Partners"
       ]
      },
      {
       "output_type": "stream",
       "stream": "stdout",
       "text": [
        "\n",
        "38|  2777|  Mahesh Murthy|||    Venture capitalist, brand guy, speaker on all things digital. Managing Partner at Seedfund and Founder at Pinstorm"
       ]
      },
      {
       "output_type": "stream",
       "stream": "stdout",
       "text": [
        "\n",
        "39|  2789|  Arvind Sehgal|||    Founder, CEO - New Era, Serial Entrepreneur, Venture Catalyst & Investor\n",
        "40|  2790|  Sameer Brij Verma|||    Early Stage Venture Investor in Data, Mobile & Cloud\n",
        "41|  2792|  Venugopal Sathyanarayana|||    Entrepreneur, Mentor& Investor. VC at Orios Venture Partners\n",
        "42|  2795|  Vinod Keni|||    CoFounder - Peachtree Capital Partners; Serial Entrepreneur, Angel Investor & Mentor, VC Professional\n",
        "43|  2799|  Sanjay Anandaram|||    Venture Partner, Seed Fund; Advisor at Ojas Venture Partners\n",
        "44|  2803|  Mukul Arora|||    Vice President at SAIF Partners\n",
        "45|  2809|  Anil Joshi|||    On short break before I start\n",
        "46|  2815|  Raghav Bahl|||    Vice President at Bessemer Venture Partners\n",
        "47|  2816|  Sunil Goyal|||    Founder & CEO at YourNest Angel Fund\n",
        "48|  2822|  Kris Nair|||    Business Design & Business Model Innovation\n",
        "49|  2830|  Manish Singhal|||    Entrepreneur. Advisor. Angel Investor\n",
        "50|  2833|  Abishek Surendran|||    Venture Capital Investing @ Exfinity Fund"
       ]
      },
      {
       "output_type": "stream",
       "stream": "stdout",
       "text": [
        "\n",
        "51|  2837|  Varun Chawla|||    Transforming the start-up ecosystem\n",
        "52|  2840|  Digbijoy Shukla|||    Entrepreneurship Evangelist, Mentor & Social Investor\n",
        "53|  2841|  Avnish Bajaj|||    Managing Director, Matrix Partners India\n",
        "54|  2849|  Navin Honagudi|||    Venture Capital\n",
        "55|  2851|  Prajakt Raut|||    Co-founder at Applyifi and founder The Hub for Startups\n",
        "56|  2853|  Jasmeet Chhabra|||    Managing Director at Red Fort Capital Advisors Private Limited\n",
        "57|  2855|  Shashank P S|||    .\n",
        "58|  2857|  Mahendra Swarup|||    Managing Director & Partner at Avigo Capital Partners\n",
        "59|  2858|  Kuldip Nar|||    Communications - Technology - Partnerships : COO/CIO @ Trans Innovations\n",
        "60|  2868|  Anand Lunia|||    Founder, IndiaQuotient, seed stage venture capital\n",
        "61|  2869|  Maninder Gulati|||    Vice President at Lightspeed India\n",
        "62|  2871|  Venkatesh Peddi|||    Venture Capitalist\n",
        "63|  2875|  Mayank Khanduja|||    Vice President at SAIF Partners; Venture Investor - Tech Startups"
       ]
      },
      {
       "output_type": "stream",
       "stream": "stdout",
       "text": [
        "\n",
        "64|  2887|  Allan MAJOTRA|||    Private Equity Placement and Private Equity Finance\n",
        "65|  2890|  sangram singh|||    Founder, Able Partners\n",
        "66|  2892|  Pavan Krishnamurthy|||    Partner: Ojas Venture Partners\n",
        "67|  2894|  George Paul|||    Operations Head at GenNext Innovation Hub\n",
        "68|  2901|  Ritesh Banglani|||    Partner at Helion Ventures\n",
        "69|  2902|  Mayank Aggarwal|||    Sr. Investment Manager at Jacob Ballas Capital India\n",
        "70|  2914|  Subramanya S V|||    Managing Director at Bessemer Venture Partners\n",
        "71|  2919|  Sanjay Kapoor|||    Entrepreneur, Coach, Educator, Co-investor\n",
        "72|  2930|  Rohit Bhayana|||    Managing Partner, Lumis Partners\n",
        "73|  2940|  Raja Mohanty|||    General Manager\n",
        "74|  2943|  Rohit Jain|||    Entrepreneur | Venture Capital | Private Equity | Technology | Real Estate\n",
        "75|  2953|  Puneet Suri|||    Director - Brand Capital"
       ]
      },
      {
       "output_type": "stream",
       "stream": "stdout",
       "text": [
        "\n",
        "76|  2957|  Mahesh Vaidya|||    Director at Intel Capital\n",
        "77|  2992|  Rajiv Poddar|||    Vice President - Helix Investments Advisors\n",
        "78|  3017|  Sandeep Bardia|||    Co-Founder & Managing Partner at Infinitas Capital Advisors LLP\n",
        "79|  3034|  Roshan Banka|||    VP at ICICI Venture\n",
        "80|  3070|  Tejas Shah|||    VP Finance at Nexus Venture Partners\n",
        "81|  3311|  Prajakt Raut|||    Co-founder at Applyifi and founder The Hub for Startups"
       ]
      },
      {
       "output_type": "stream",
       "stream": "stdout",
       "text": [
        "\n",
        "82|  3615|  Kuldeep Bhayana|||    Technology Entrepreneur & Strategic Investor\n",
        "82"
       ]
      },
      {
       "output_type": "stream",
       "stream": "stdout",
       "text": [
        "\n"
       ]
      }
     ],
     "prompt_number": 10
    },
    {
     "cell_type": "code",
     "collapsed": false,
     "input": [
      "#for i in ids['siteStandardProfileRequest']:\n",
      "    #print str(i)  + \"|  \" + ids['firstName'][i] + \" \" + ids['lastName'][i] + \"  |  \" + ids['headline'][i] \n",
      "    #print '%3i | %15s %15s | %s'  %(i, ids['firstName'][i], ids['lastName'][i], ids['headline'][i] )\n",
      "    #print ids.head()['apiStandardProfileRequest'][3]\n",
      "    #print ids.head()['siteStandardProfileRequest'][i]\n",
      "#    print i\n",
      "    #ids.append(pd.DataFrame([]))\n",
      "from Parser import Linkedin\n",
      "app = Linkedin.chetan()\n",
      "#,'company-name', 'title', 'current-company'\n",
      "res = app.search_profile(selectors = [{'people' : ['first-name','last-name', 'headline']}],params={'industry' : 106 , 'network' : 'S' }) #industry 106, 101    # network  S: second degree  A: inside or groups  O: Out of network\n"
     ],
     "language": "python",
     "metadata": {},
     "outputs": [
      {
       "output_type": "stream",
       "stream": "stdout",
       "text": [
        "{'headers': {'x-li-format': 'json', 'Content-Type': 'application/json'}, 'params': {'industry': 106, 'network': 'S'}, 'auth': <requests_oauthlib.oauth1_auth.OAuth1 object at 0xb5e132c>, 'timeout': 60, 'data': None}\n",
        "https://api.linkedin.com/v1/people-search:(people:(first-name,last-name,headline))\n"
       ]
      }
     ],
     "prompt_number": 5
    },
    {
     "cell_type": "code",
     "collapsed": false,
     "input": [
      "import requests \n",
      "#import urllib2\n",
      "from BeautifulSoup import BeautifulSoup\n",
      "#r = urllib2.urlopen('https://www.linkedin.com/profile/view?id=59204182')\n",
      "#parsed_html = BeautifulSoup(r.read())\n",
      "#r = requests.get('https://www.linkedin.com/profile/view?id=43673136&authType=name&authToken=PNb9&trk=api*a3700191*s3770751*')\n",
      "#parsed_html = BeautifulSoup(r.content)\n",
      "#print parsed_html.body\n",
      "#print parsed_html.body.find('div', attrs={'id':'connections'})#{'class':'cardstack-container'})\n",
      "\n",
      "headers = {'x-li-format': 'json', 'Content-Type': 'application/json'}\n",
      "kw = dict(headers=headers)\n",
      "req = requests.request('GET', 'https://www.linkedin.com/profile/view?id=43673136&authType=name&authToken=PNb9&trk=api*a3700191*s3770751*', **kw)\n",
      "#print req.text"
     ],
     "language": "python",
     "metadata": {},
     "outputs": [],
     "prompt_number": 89
    },
    {
     "cell_type": "code",
     "collapsed": true,
     "input": [
      "import requests \n",
      "from BeautifulSoup import BeautifulSoup \n",
      "Data = {}\n",
      "headers = {'x-li-format': 'json', 'Content-Type': 'application/json'}\n",
      "kw = dict(headers=headers)\n",
      "req = requests.request('GET','http://timescity.com/delhi/restaurant/parking-available-facility/?pg=2',**kw)\n",
      "#showMoredata_restaurant  id <ul>"
     ],
     "language": "python",
     "metadata": {},
     "outputs": []
    },
    {
     "cell_type": "code",
     "collapsed": false,
     "input": [
      "\n",
      "parsed_html = BeautifulSoup(req.content)\n",
      "uls =  parsed_html.body.find('ul', attrs={'id':'showMoredata_restaurant'})\n",
      "lis = uls.findAll('li')\n",
      "print len(lis)\n",
      "#{ id = {\"Name\": \"Diva The Italian\",\n",
      "#        \"address\": { \"streetAddress\": \"\",       \n",
      "#                     \"addressLocality\": \"\",\n",
      "#                     \"postalCode\":  \"\",\n",
      "#                     \"addressRegion\": \"\",\n",
      "#                     \"nearbyplace\": \"\"},\n",
      "#         \"phoneNo\" : \"\",\n",
      "#          \"link\": \"\"}  }\n",
      "# \n",
      "for j in lis:\n",
      "    if len(j.findAll('a')) <= 2:\n",
      "        continue\n",
      "    link = str(j.findAll('a')[1]['href'])\n",
      "    name = str(j.findAll('a')[1].string)\n",
      "    Data[name] = { \"Name\": \"Diva The Italian\",\n",
      "                   \"address\": { \"streetAddress\": \"\",       \n",
      "                                \"addressLocality\": \"\",\n",
      "                                \"postalCode\":  \"\",\n",
      "                                \"addressRegion\": \"\",\n",
      "                                \"nearbyplace\": \"\"},\n",
      "                   \"phoneNo\" : \"\",\n",
      "                   \"link\": \"\"\n",
      "                  }\n",
      "    Data[name]['Name'] = name\n",
      "    Data[name]['link'] = link\n",
      "    res_data = \"\"\n",
      "    try:\n",
      "        res_det = requests.request('GET',link,**kw)\n",
      "    except:\n",
      "        print \"Unexpected Error\"\n",
      "        continue\n",
      "\n",
      "    par_det = BeautifulSoup(res_det.content)\n",
      "    addr = par_det.body.find('span', attrs={'itemprop':'address'})\n",
      "    tel  = par_det.body.find('span', attrs={'itemprop':'telephone'})\n",
      "    near  = par_det.body.find('span', attrs={'itemprop':'name'})\n",
      "    \n",
      "    if addr is None or len(addr) <= 0:\n",
      "        continue\n",
      "    Data[name]['address']['streetAddress'] = str(addr.find('span').string)\n",
      "    locality = addr.findAll('meta')\n",
      "    \n",
      "    for k in locality:\n",
      "        if k[\"itemprop\"] == \"addressLocality\":\n",
      "            Data[name]['address']['addressLocality'] = k['content']\n",
      "        elif k[\"itemprop\"] == \"postalCode\":\n",
      "            Data[name]['address']['postalCode'] = k['content']\n",
      "        else:\n",
      "            Data[name]['address']['addressRegion'] = k['content']\n",
      "            \n",
      "    if tel is None or len(tel.findAll('a')) <= 0:\n",
      "        continue\n",
      "    tel_a= tel.findAll('a')\n",
      "    for i in tel_a:\n",
      "        Data[name]['phoneNo'] += str(i['href']) + \",\"\n",
      "    Data[name]['address']['nearbyplace'] = str(near.string)\n",
      "    print near, tel\n",
      "    #Data[str(idd)][\"Name\"] = name\n",
      "\n",
      "\n"
     ],
     "language": "python",
     "metadata": {},
     "outputs": []
    },
    {
     "cell_type": "code",
     "collapsed": false,
     "input": [
      "    req = requests.request('GET',\"https://www.zomato.com/ncr/restaurants?q=parking\")\n",
      "    reviews = []\n",
      "parsed_html = BeautifulSoup(req.content)\n",
      "print parsed_html\n",
      "uls =  parsed_html.body.find('ol')\n",
      "rws =  uls.findAll('p', attr= {\"class\":\"dish_search_display\"})\n",
      "for i in rws:\n",
      "    reviews.append(rws['title'])"
     ],
     "language": "python",
     "metadata": {},
     "outputs": []
    },
    {
     "cell_type": "code",
     "collapsed": false,
     "input": [
      "print reviews"
     ],
     "language": "python",
     "metadata": {},
     "outputs": []
    },
    {
     "cell_type": "code",
     "collapsed": false,
     "input": [],
     "language": "python",
     "metadata": {},
     "outputs": []
    }
   ],
   "metadata": {}
  }
 ]
}