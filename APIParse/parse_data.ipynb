{
 "metadata": {
  "name": "",
  "signature": "sha256:75712f853ba66a282985558f6820f76522ddd341ebdca4b8f75e443b26c21bf2"
 },
 "nbformat": 3,
 "nbformat_minor": 0,
 "worksheets": [
  {
   "cells": [
    {
     "cell_type": "code",
     "collapsed": false,
     "input": [
      "import urllib2\n",
      "from BeautifulSoup import BeautifulSoup\n",
      "comp_name_db = []\n",
      "for i in range(699):\n",
      "    i +=1 \n",
      "    url = \"http://www.smelisting.com/categories/advertising\"\n",
      "    if (i > 1):\n",
      "        url = url + \"/\" + str(i)\n",
      "    print url \n",
      "    req = urllib2.urlopen(url)\n",
      "    parsed_html = BeautifulSoup(req.read())\n",
      "    comp_names = parsed_html.body.findAll('span', attrs={'itemprop':'name'})\n",
      "    for comp in comp_names:\n",
      "        print comp\n",
      "        comp_name_db.append(comp.string)\n",
      "    \n"
     ],
     "language": "python",
     "metadata": {},
     "outputs": []
    },
    {
     "cell_type": "code",
     "collapsed": false,
     "input": [
      "parsed_html = BeautifulSoup(req.read())\n",
      "total_comp = parsed_html.body.find('div', attrs={'class':'col-md-9'})\n",
      "\n"
     ],
     "language": "python",
     "metadata": {},
     "outputs": [],
     "prompt_number": 27
    },
    {
     "cell_type": "code",
     "collapsed": false,
     "input": [
      "row = total_comp.find('div', attrs={'class':'search-result row'})\n",
      "comp_name = row.find('div', attrs={'class':'col-md-3'}).string\n",
      "print comp_name"
     ],
     "language": "python",
     "metadata": {},
     "outputs": [
      {
       "output_type": "stream",
       "stream": "stdout",
       "text": [
        "None\n"
       ]
      }
     ],
     "prompt_number": 28
    },
    {
     "cell_type": "code",
     "collapsed": false,
     "input": [
      "comp_names = parsed_html.body.findAll('span', attrs={'itemprop':'name'})\n",
      "arr = []\n",
      "for comp in comp_names:\n",
      "    arr.append(comp.string)\n",
      "print arr\n",
      "    \n"
     ],
     "language": "python",
     "metadata": {},
     "outputs": [
      {
       "output_type": "stream",
       "stream": "stdout",
       "text": [
        "[u'Olympus Infotech Pvt Ltd ', u'om xpress print pack private limited ', u'Msg91.com ', u'Sun Shines ', u'Censer Advertising -P Ltd ', u'TV Ad Indx / IBankLive.com ', u'A & M Media Advertising ', u'Videojet Technologies India Pvt. Ltd. ', u'Siddhi Sai Arts ', u'Advistas Glow Signs ']\n"
       ]
      }
     ],
     "prompt_number": 36
    },
    {
     "cell_type": "code",
     "collapsed": false,
     "input": [
      "import urllib2\n",
      "from BeautifulSoup import BeautifulSoup\n",
      "url = \"http://www.smelisting.com/categories/advertising\"\n",
      "     \n",
      "req = urllib2.urlopen(url)\n",
      "parsed_html = BeautifulSoup(req.read())\n",
      "comp_names = parsed_html.body.findAll('span', attrs={'itemprop':'name'})\n",
      "comp_desc = parsed_html.body.findAll('p', attrs={'class':'text-justify more'})\n",
      "print comp_names\n",
      "#comp_addr = parsed_html.body.findAll('span', attrs={'itemprop':'streetAddress'})\n",
      "#comp_names = parsed_html.body.findAll('span', attrs={'itemprop':'name'})\n",
      "#for i in range(10):\n",
      "#    print comp_names[i].string , \"         \", comp_addr[i].string"
     ],
     "language": "python",
     "metadata": {},
     "outputs": [
      {
       "output_type": "stream",
       "stream": "stdout",
       "text": [
        "[<span itemprop=\"name\">Olympus Infotech Pvt Ltd </span>, <span itemprop=\"name\">om xpress print pack private limited </span>, <span itemprop=\"name\">Msg91.com </span>, <span itemprop=\"name\">Sun Shines </span>, <span itemprop=\"name\">Censer Advertising -P Ltd </span>, <span itemprop=\"name\">TV Ad Indx / IBankLive.com </span>, <span itemprop=\"name\">A &amp; M Media Advertising </span>, <span itemprop=\"name\">Videojet Technologies India Pvt. Ltd. </span>, <span itemprop=\"name\">Siddhi Sai Arts </span>, <span itemprop=\"name\">Advistas Glow Signs </span>]\n"
       ]
      }
     ],
     "prompt_number": 12
    },
    {
     "cell_type": "code",
     "collapsed": false,
     "input": [
      "data[3]\n",
      "\n"
     ],
     "language": "python",
     "metadata": {},
     "outputs": [
      {
       "metadata": {},
       "output_type": "pyout",
       "prompt_number": 29,
       "text": [
        "<div itemscope=\"itemscope\" itemtype=\"http://schema.org/Organization\" class=\"search-result row\"><div class=\"col-md-3\"><a href=\"/company/sun-shines\" class=\"thumbnail\"><img itemprop=\"logo\" src=\"/images/logos/default.jpg\" alt=\"Sun Shines's Logo\" /> </a><button class=\"btn btn-block btn-success quickEnquiryLink\" data-usguid=\"sunshinescreatives\">Send Message</button><div class=\"clearfix\"></div><div class=\"list-group searchOffContainer small\"> <address class=\"list-group-item text-muted\" itemprop=\"address\" itemscope=\"itemscope\" itemtype=\"http://schema.org/PostalAddress\"><b>Head Office</b><div class=\"small\"><span itemprop=\"streetAddress\">#68,opp St Gaspar school,Parvathy Nagar,Bangalore</span></div><div class=\"small\"><span itemprop=\"addressLocality\"> </span><span itemprop=\"addressRegion\"> </span><span itemprop=\"addressCountry\"></span></div></address> </div></div><div class=\"col-md-9 excerpet\"><h3><a href=\"/company/sun-shines\" itemprop=\"url\" title=\"Sun Shines\"><span itemprop=\"name\">Sun Shines </span></a></h3><p class=\"text-justify more\">Graphic Design\n",
        "\n",
        "Brochure,Logo,Flyers,Leaflets,Calendars,Catalogues,Posters,Letterheads,Envelopes,ID Cards,Menu Cards\n",
        "\n",
        "Professional Photography\n",
        "\n",
        "Architecture,Food,Fashion,Interior,Industrial,Product,Nature,Travel,Movies,Ad Films,Corporate Films,Documentaries,Educational Films,Product Videos\n",
        "\n",
        "Web\n",
        "\n",
        "Web Hosting,Domain Registration,Web Designing\n",
        "\n",
        "Custom Publishing\n",
        "\n",
        "Coffee Table Books,Photo Books</p> <p class=\"text-justify more\">We are a group of creative professionals like Copywriters, Photographers, Art Directors, Ad Film Makers, Web Designers etc. etc. \n",
        "From concept to completion, we provide customized solutions that captivate your target audience. It is our job to remove the obstacles and provide you with the creative solutions to succeed in your business.\n",
        "Our strengths lie within developing and conceptualizing ideas for companies and organizations aim for branding and consistent growth.\n",
        "Frankly speaking, we\u2019re an idea company. We can\u2019t stop thinking creatively.</p> <b>Products</b><div class=\"list-group\"> <a href=\"/company/sun-shines/products/creative-communication\" class=\"list-group-item\"> <b>Creative communication</b><div class=\"text-muted more\">Graphic design, Web Design, Commercial Photography, Corporate/Ad films and Custom Publishing</div></a> <a href=\"/company/sun-shines/products/graphic-design\" class=\"list-group-item\"> <b>Graphic design</b><div class=\"text-muted more\">Brochure Logo design Flyers Leaflets Calendars Catalogues Posters Letterheads Envelopes ID Cards Menu Cards</div></a> <a href=\"/company/sun-shines/products/professional-photography\" class=\"list-group-item\"> <b>Commercial Photography</b><div class=\"text-muted more\">Architecture Food Fashion Interior Industrial Product Nature Travel</div></a><div class=\"list-group-item text-center\">And 3 more</div></div> </div><span class=\"clearfix borda\"></span></div>"
       ]
      }
     ],
     "prompt_number": 29
    },
    {
     "cell_type": "code",
     "collapsed": false,
     "input": [
      "import json\n",
      "import urllib2\n",
      "from BeautifulSoup import BeautifulSoup\n",
      "\n",
      "comp_db = []\n",
      "url = \"http://www.smelisting.com/categories/advertising\"\n",
      "req = urllib2.urlopen(url)\n",
      "parsed_html = BeautifulSoup(req.read())\n",
      "data = parsed_html.body.findAll('div', attrs={'class':'search-result row'})\n",
      "for j in range(len(data)):\n",
      "    \n",
      "    comp_name = data[j].findAll('span', attrs={'itemprop':'name'})\n",
      "    if len(comp_name):\n",
      "        comp_name = comp_name[0].string\n",
      "    else:\n",
      "        next\n",
      "    comp_desc = data[j].findAll('p', attrs={'class':'text-justify more'})\n",
      "    if len(comp_desc):\n",
      "        comp_desc = comp_desc[0].string\n",
      "    addr = data[j].findAll('span', attrs={'itemprop':'streetAddress'})\n",
      "    address = ''\n",
      "    for k in range(len(addr)):\n",
      "        address += addr[k].string + \"     \\n\"\n",
      "    print address\n",
      "    comp_db.append({'name' : comp_name,\n",
      "                    'desc' : comp_desc,\n",
      "                    'addr' : address})\n",
      "    \n",
      "fp = open(\"file.txt\", \"w\")\n",
      "json.dump(comp_db,fp)\n",
      "fp.close()\n"
     ],
     "language": "python",
     "metadata": {},
     "outputs": [
      {
       "output_type": "stream",
       "stream": "stdout",
       "text": [
        "Olympus Infotech Pvt Ltd\n",
        "38-39, SIDCO Garment Complex\n",
        "Opp Hotel Le meridian\n",
        "GUINDY,\n",
        "Chennai - 600 032, INDIA.     \n",
        "Olympus Infotech Pvt Ltd\n",
        "38-39, SIDCO Garment Complex\n",
        "Opp Hotel Le meridian\n",
        "GUINDY,\n",
        "Chennai - 600 032, INDIA.     \n",
        "Olympus Infotech Pvt Ltd\n",
        "38-39, SIDCO Garment Complex\n",
        "Opp Hotel Le meridian\n",
        "GUINDY,\n",
        "Chennai - 600 032, INDIA     \n",
        "\n",
        "\n",
        "405, Capt. C. S. Naidu Arcade,\n",
        "Near Greater Kailash Hospital, 10/2 Old Palasia.\n",
        "     \n",
        "\n",
        "#68,opp St Gaspar school,Parvathy Nagar,Bangalore     \n",
        "\n",
        "Rajinder Nagar     \n",
        "\n",
        "Shanipar Mandai Road     \n",
        "TV Ad Indx / iBankLive.com\n",
        "G 94-97 Triveni Commercial Complex\n",
        "Sheikh Serai 1\n",
        "New Delhi 110017\n",
        "\n",
        " Work\n",
        " 91 11 2601401Fax\n",
        "iBankLive@tvadindx.com\t     \n",
        "\n",
        "Ashoka Road     \n",
        "\n",
        "101/102, Bldg 5, Millennium Business Park \n",
        "Sector \u2013 2, Mahape, Navi Mumbai \u2013 400 710     \n",
        "\n",
        "1, Hardrock CHS Next to BIG Bazaar Sector 7, kharGhar Navi Mumbai     \n",
        "Gr. Flr Progressive Villa E Plot 73, Sector 19/20 CBD Belapur Navi Mumbai- 400614     \n",
        "9, Next to Shiv Sena Office Sion Trombay Road Suman Nagar Chembur Mumbai - 400 071     \n",
        "\n",
        "H-28 A, Ground Floor,\n",
        "Saket,\n",
        "New Delhi - 110017     \n",
        "219, QUTUB PLAZA,\n",
        "DLF PHASE 1,\n",
        "GURGAON,\n",
        "HARYANA - 122002     \n",
        "\n"
       ]
      }
     ],
     "prompt_number": 14
    },
    {
     "cell_type": "code",
     "collapsed": false,
     "input": [
      "val= data[0].findAll('span', attrs={'itemprop':'streetAddress'})\n",
      "print val\n"
     ],
     "language": "python",
     "metadata": {},
     "outputs": [
      {
       "ename": "NameError",
       "evalue": "name 'data' is not defined",
       "output_type": "pyerr",
       "traceback": [
        "\u001b[1;31m---------------------------------------------------------------------------\u001b[0m\n\u001b[1;31mNameError\u001b[0m                                 Traceback (most recent call last)",
        "\u001b[1;32m<ipython-input-1-619f0d40eddb>\u001b[0m in \u001b[0;36m<module>\u001b[1;34m()\u001b[0m\n\u001b[1;32m----> 1\u001b[1;33m \u001b[0mval\u001b[0m\u001b[1;33m=\u001b[0m \u001b[0mdata\u001b[0m\u001b[1;33m[\u001b[0m\u001b[1;36m0\u001b[0m\u001b[1;33m]\u001b[0m\u001b[1;33m.\u001b[0m\u001b[0mfindAll\u001b[0m\u001b[1;33m(\u001b[0m\u001b[1;34m'span'\u001b[0m\u001b[1;33m,\u001b[0m \u001b[0mattrs\u001b[0m\u001b[1;33m=\u001b[0m\u001b[1;33m{\u001b[0m\u001b[1;34m'itemprop'\u001b[0m\u001b[1;33m:\u001b[0m\u001b[1;34m'streetAddress'\u001b[0m\u001b[1;33m}\u001b[0m\u001b[1;33m)\u001b[0m\u001b[1;33m\u001b[0m\u001b[0m\n\u001b[0m\u001b[0;32m      2\u001b[0m \u001b[1;32mprint\u001b[0m \u001b[0mval\u001b[0m\u001b[1;33m\u001b[0m\u001b[0m\n",
        "\u001b[1;31mNameError\u001b[0m: name 'data' is not defined"
       ]
      }
     ],
     "prompt_number": 1
    },
    {
     "cell_type": "code",
     "collapsed": false,
     "input": [
      "import os \n",
      "import pandas\n",
      "from pandas import ExcelWriter\n",
      "\n",
      "files = os.listdir(\"files/\")\n",
      "for fil in files:\n",
      "    pd = pandas.io.json.read_json(open(\"files/\" + fil ))\n",
      "    csv_file = open(\"csv/\" +fil + \".csv\", \"w\")\n",
      "    pd.to_csv(csv_file, \"~\", encoding='utf-8')\n",
      "    csv_file.close()"
     ],
     "language": "python",
     "metadata": {},
     "outputs": [
      {
       "output_type": "stream",
       "stream": "stderr",
       "text": [
        "/usr/local/lib/python2.7/dist-packages/pandas/io/excel.py:626: UserWarning: Installed openpyxl is not supported at this time. Use >=1.6.1 and <2.0.0.\n",
        "  .format(openpyxl_compat.start_ver, openpyxl_compat.stop_ver))\n"
       ]
      }
     ],
     "prompt_number": 1
    },
    {
     "cell_type": "code",
     "collapsed": false,
     "input": [
      "import os \n",
      "import pandas\n",
      "files = os.listdir(\"files\")\n",
      "fil in files\n",
      "print fil"
     ],
     "language": "python",
     "metadata": {},
     "outputs": [
      {
       "output_type": "stream",
       "stream": "stdout",
       "text": [
        "call-centers-and-bpo-services\n"
       ]
      }
     ],
     "prompt_number": 3
    },
    {
     "cell_type": "code",
     "collapsed": false,
     "input": [
      "import urllib2\n",
      "from BeautifulSoup import BeautifulSoup\n",
      "\n",
      "#url = \"http://www.sap.com/customer-testimonials/a-z.html\"\n",
      "#url = \"http://global.sap.com/australia/customer-testimonials/index.epx\"   \n",
      "#url = \"http://www.manta.com/world/Oceania/Australia/Queensland/Gold+Coast/\"\n",
      "url = \"http://www.goldcoastdirectory.com/manufacturing-industrial\"\n",
      "#url = \"http://www.glassdoor.com/Reviews/top-companies-gold-coast-SRCH_IL.14,24_IC2275553_SDOR.htm\"\n",
      "#India\n",
      "#http://www.sapendusers.com/sapcustomers.php?sapcustomersid=Maharashtra\n",
      "req = urllib2.urlopen(url)\n",
      "parsed_html = BeautifulSoup(req.read())\n",
      "#comp_names = parsed_html.body.findAll('li', attrs={'class':'atoz-list'})\n",
      "#comp_desc = parsed_html.body.findAll('p', attrs={'class':'text-justify more'})\n",
      "\"Listings_ResultList Listings_ResultListDirectory Listings_ResultListRow2\"\n",
      "#print parsed_html"
     ],
     "language": "python",
     "metadata": {},
     "outputs": [
      {
       "metadata": {},
       "output_type": "pyout",
       "prompt_number": 1,
       "text": [
        "'Listings_ResultList Listings_ResultListDirectory Listings_ResultListRow2'"
       ]
      }
     ],
     "prompt_number": 1
    },
    {
     "cell_type": "code",
     "collapsed": false,
     "input": [
      "import urllib2\n",
      "from BeautifulSoup import BeautifulSoup\n",
      "url = \"http://www.gsmarena.com/results.php3?sBluetooths=5\"\n",
      "req = urllib2.urlopen(url)\n",
      "parsed_html = BeautifulSoup(req.read())\n",
      "ls = parsed_html.body.findAll('div', attrs={'class':'makers'})\n",
      "#ls_mobiles = ls.findAll('li')\n",
      "if len(ls):\n",
      "    ls_mobiles = ls[0].findAll('li')\n",
      "    print len(ls_mobiles)                   # only Bluetooth v4.0 devices but this site display only 70 devices but result is 908\n",
      "    "
     ],
     "language": "python",
     "metadata": {},
     "outputs": [
      {
       "output_type": "stream",
       "stream": "stdout",
       "text": [
        "70\n",
        "1"
       ]
      },
      {
       "output_type": "stream",
       "stream": "stdout",
       "text": [
        "\n"
       ]
      }
     ],
     "prompt_number": 6
    },
    {
     "cell_type": "code",
     "collapsed": false,
     "input": [
      "# all bluetooh Mobile Device available in india \n",
      "url = \"http://www.mysmartprice.com/mobile/pricelist/android-mobile-price-list-in-india.html#subcategory=mobile&property=|200030-200158|200027-200137|200030-200159|200030-200160|200030-200161|200030-200162\"\n",
      "req = urllib2.urlopen(url)\n",
      "parsed_html = BeautifulSoup(req.read())\n",
      "ls = parsed_html.body.findAll('div', attrs={'class':'listitems_rd info-items-4'})\n",
      "print ls[0]\n",
      "if len(ls):\n",
      "    ls_mobiles = ls[0].findAll('div', attrs={'class' : 'msplistitem'})\n",
      "    print len(ls_mobiles)\n",
      "\n",
      "    \n",
      "    \n",
      "# http://www.infibeam.com/Mobiles/#features=bluetooth   it shows a result of  537 mobiles with bluetooth feature \n",
      "# http://www.ispyprice.com/mobiles/samsung-phones-price-list-india/  it shows a result of 1950 mobile with bluetooth feature "
     ],
     "language": "python",
     "metadata": {},
     "outputs": [
      {
       "ename": "URLError",
       "evalue": "<urlopen error [Errno -2] Name or service not known>",
       "output_type": "pyerr",
       "traceback": [
        "\u001b[1;31m---------------------------------------------------------------------------\u001b[0m\n\u001b[1;31mURLError\u001b[0m                                  Traceback (most recent call last)",
        "\u001b[1;32m<ipython-input-8-2e176c4aee5f>\u001b[0m in \u001b[0;36m<module>\u001b[1;34m()\u001b[0m\n\u001b[0;32m      1\u001b[0m \u001b[1;31m# all bluetooh Mobile Device available in india\u001b[0m\u001b[1;33m\u001b[0m\u001b[1;33m\u001b[0m\u001b[0m\n\u001b[0;32m      2\u001b[0m \u001b[0murl\u001b[0m \u001b[1;33m=\u001b[0m \u001b[1;34m\"http://www.mysmartprice.com/mobile/pricelist/android-mobile-price-list-in-india.html#subcategory=mobile&property=|200030-200158|200027-200137|200030-200159|200030-200160|200030-200161|200030-200162\"\u001b[0m\u001b[1;33m\u001b[0m\u001b[0m\n\u001b[1;32m----> 3\u001b[1;33m \u001b[0mreq\u001b[0m \u001b[1;33m=\u001b[0m \u001b[0murllib2\u001b[0m\u001b[1;33m.\u001b[0m\u001b[0murlopen\u001b[0m\u001b[1;33m(\u001b[0m\u001b[0murl\u001b[0m\u001b[1;33m)\u001b[0m\u001b[1;33m\u001b[0m\u001b[0m\n\u001b[0m\u001b[0;32m      4\u001b[0m \u001b[0mparsed_html\u001b[0m \u001b[1;33m=\u001b[0m \u001b[0mBeautifulSoup\u001b[0m\u001b[1;33m(\u001b[0m\u001b[0mreq\u001b[0m\u001b[1;33m.\u001b[0m\u001b[0mread\u001b[0m\u001b[1;33m(\u001b[0m\u001b[1;33m)\u001b[0m\u001b[1;33m)\u001b[0m\u001b[1;33m\u001b[0m\u001b[0m\n\u001b[0;32m      5\u001b[0m \u001b[0mls\u001b[0m \u001b[1;33m=\u001b[0m \u001b[0mparsed_html\u001b[0m\u001b[1;33m.\u001b[0m\u001b[0mbody\u001b[0m\u001b[1;33m.\u001b[0m\u001b[0mfindAll\u001b[0m\u001b[1;33m(\u001b[0m\u001b[1;34m'div'\u001b[0m\u001b[1;33m,\u001b[0m \u001b[0mattrs\u001b[0m\u001b[1;33m=\u001b[0m\u001b[1;33m{\u001b[0m\u001b[1;34m'class'\u001b[0m\u001b[1;33m:\u001b[0m\u001b[1;34m'listitems_rd info-items-4'\u001b[0m\u001b[1;33m}\u001b[0m\u001b[1;33m)\u001b[0m\u001b[1;33m\u001b[0m\u001b[0m\n",
        "\u001b[1;32m/usr/lib/python2.7/urllib2.pyc\u001b[0m in \u001b[0;36murlopen\u001b[1;34m(url, data, timeout)\u001b[0m\n\u001b[0;32m    124\u001b[0m     \u001b[1;32mif\u001b[0m \u001b[0m_opener\u001b[0m \u001b[1;32mis\u001b[0m \u001b[0mNone\u001b[0m\u001b[1;33m:\u001b[0m\u001b[1;33m\u001b[0m\u001b[0m\n\u001b[0;32m    125\u001b[0m         \u001b[0m_opener\u001b[0m \u001b[1;33m=\u001b[0m \u001b[0mbuild_opener\u001b[0m\u001b[1;33m(\u001b[0m\u001b[1;33m)\u001b[0m\u001b[1;33m\u001b[0m\u001b[0m\n\u001b[1;32m--> 126\u001b[1;33m     \u001b[1;32mreturn\u001b[0m \u001b[0m_opener\u001b[0m\u001b[1;33m.\u001b[0m\u001b[0mopen\u001b[0m\u001b[1;33m(\u001b[0m\u001b[0murl\u001b[0m\u001b[1;33m,\u001b[0m \u001b[0mdata\u001b[0m\u001b[1;33m,\u001b[0m \u001b[0mtimeout\u001b[0m\u001b[1;33m)\u001b[0m\u001b[1;33m\u001b[0m\u001b[0m\n\u001b[0m\u001b[0;32m    127\u001b[0m \u001b[1;33m\u001b[0m\u001b[0m\n\u001b[0;32m    128\u001b[0m \u001b[1;32mdef\u001b[0m \u001b[0minstall_opener\u001b[0m\u001b[1;33m(\u001b[0m\u001b[0mopener\u001b[0m\u001b[1;33m)\u001b[0m\u001b[1;33m:\u001b[0m\u001b[1;33m\u001b[0m\u001b[0m\n",
        "\u001b[1;32m/usr/lib/python2.7/urllib2.pyc\u001b[0m in \u001b[0;36mopen\u001b[1;34m(self, fullurl, data, timeout)\u001b[0m\n\u001b[0;32m    398\u001b[0m             \u001b[0mreq\u001b[0m \u001b[1;33m=\u001b[0m \u001b[0mmeth\u001b[0m\u001b[1;33m(\u001b[0m\u001b[0mreq\u001b[0m\u001b[1;33m)\u001b[0m\u001b[1;33m\u001b[0m\u001b[0m\n\u001b[0;32m    399\u001b[0m \u001b[1;33m\u001b[0m\u001b[0m\n\u001b[1;32m--> 400\u001b[1;33m         \u001b[0mresponse\u001b[0m \u001b[1;33m=\u001b[0m \u001b[0mself\u001b[0m\u001b[1;33m.\u001b[0m\u001b[0m_open\u001b[0m\u001b[1;33m(\u001b[0m\u001b[0mreq\u001b[0m\u001b[1;33m,\u001b[0m \u001b[0mdata\u001b[0m\u001b[1;33m)\u001b[0m\u001b[1;33m\u001b[0m\u001b[0m\n\u001b[0m\u001b[0;32m    401\u001b[0m \u001b[1;33m\u001b[0m\u001b[0m\n\u001b[0;32m    402\u001b[0m         \u001b[1;31m# post-process response\u001b[0m\u001b[1;33m\u001b[0m\u001b[1;33m\u001b[0m\u001b[0m\n",
        "\u001b[1;32m/usr/lib/python2.7/urllib2.pyc\u001b[0m in \u001b[0;36m_open\u001b[1;34m(self, req, data)\u001b[0m\n\u001b[0;32m    416\u001b[0m         \u001b[0mprotocol\u001b[0m \u001b[1;33m=\u001b[0m \u001b[0mreq\u001b[0m\u001b[1;33m.\u001b[0m\u001b[0mget_type\u001b[0m\u001b[1;33m(\u001b[0m\u001b[1;33m)\u001b[0m\u001b[1;33m\u001b[0m\u001b[0m\n\u001b[0;32m    417\u001b[0m         result = self._call_chain(self.handle_open, protocol, protocol +\n\u001b[1;32m--> 418\u001b[1;33m                                   '_open', req)\n\u001b[0m\u001b[0;32m    419\u001b[0m         \u001b[1;32mif\u001b[0m \u001b[0mresult\u001b[0m\u001b[1;33m:\u001b[0m\u001b[1;33m\u001b[0m\u001b[0m\n\u001b[0;32m    420\u001b[0m             \u001b[1;32mreturn\u001b[0m \u001b[0mresult\u001b[0m\u001b[1;33m\u001b[0m\u001b[0m\n",
        "\u001b[1;32m/usr/lib/python2.7/urllib2.pyc\u001b[0m in \u001b[0;36m_call_chain\u001b[1;34m(self, chain, kind, meth_name, *args)\u001b[0m\n\u001b[0;32m    376\u001b[0m             \u001b[0mfunc\u001b[0m \u001b[1;33m=\u001b[0m \u001b[0mgetattr\u001b[0m\u001b[1;33m(\u001b[0m\u001b[0mhandler\u001b[0m\u001b[1;33m,\u001b[0m \u001b[0mmeth_name\u001b[0m\u001b[1;33m)\u001b[0m\u001b[1;33m\u001b[0m\u001b[0m\n\u001b[0;32m    377\u001b[0m \u001b[1;33m\u001b[0m\u001b[0m\n\u001b[1;32m--> 378\u001b[1;33m             \u001b[0mresult\u001b[0m \u001b[1;33m=\u001b[0m \u001b[0mfunc\u001b[0m\u001b[1;33m(\u001b[0m\u001b[1;33m*\u001b[0m\u001b[0margs\u001b[0m\u001b[1;33m)\u001b[0m\u001b[1;33m\u001b[0m\u001b[0m\n\u001b[0m\u001b[0;32m    379\u001b[0m             \u001b[1;32mif\u001b[0m \u001b[0mresult\u001b[0m \u001b[1;32mis\u001b[0m \u001b[1;32mnot\u001b[0m \u001b[0mNone\u001b[0m\u001b[1;33m:\u001b[0m\u001b[1;33m\u001b[0m\u001b[0m\n\u001b[0;32m    380\u001b[0m                 \u001b[1;32mreturn\u001b[0m \u001b[0mresult\u001b[0m\u001b[1;33m\u001b[0m\u001b[0m\n",
        "\u001b[1;32m/usr/lib/python2.7/urllib2.pyc\u001b[0m in \u001b[0;36mhttp_open\u001b[1;34m(self, req)\u001b[0m\n\u001b[0;32m   1205\u001b[0m \u001b[1;33m\u001b[0m\u001b[0m\n\u001b[0;32m   1206\u001b[0m     \u001b[1;32mdef\u001b[0m \u001b[0mhttp_open\u001b[0m\u001b[1;33m(\u001b[0m\u001b[0mself\u001b[0m\u001b[1;33m,\u001b[0m \u001b[0mreq\u001b[0m\u001b[1;33m)\u001b[0m\u001b[1;33m:\u001b[0m\u001b[1;33m\u001b[0m\u001b[0m\n\u001b[1;32m-> 1207\u001b[1;33m         \u001b[1;32mreturn\u001b[0m \u001b[0mself\u001b[0m\u001b[1;33m.\u001b[0m\u001b[0mdo_open\u001b[0m\u001b[1;33m(\u001b[0m\u001b[0mhttplib\u001b[0m\u001b[1;33m.\u001b[0m\u001b[0mHTTPConnection\u001b[0m\u001b[1;33m,\u001b[0m \u001b[0mreq\u001b[0m\u001b[1;33m)\u001b[0m\u001b[1;33m\u001b[0m\u001b[0m\n\u001b[0m\u001b[0;32m   1208\u001b[0m \u001b[1;33m\u001b[0m\u001b[0m\n\u001b[0;32m   1209\u001b[0m     \u001b[0mhttp_request\u001b[0m \u001b[1;33m=\u001b[0m \u001b[0mAbstractHTTPHandler\u001b[0m\u001b[1;33m.\u001b[0m\u001b[0mdo_request_\u001b[0m\u001b[1;33m\u001b[0m\u001b[0m\n",
        "\u001b[1;32m/usr/lib/python2.7/urllib2.pyc\u001b[0m in \u001b[0;36mdo_open\u001b[1;34m(self, http_class, req)\u001b[0m\n\u001b[0;32m   1175\u001b[0m         \u001b[1;32mexcept\u001b[0m \u001b[0msocket\u001b[0m\u001b[1;33m.\u001b[0m\u001b[0merror\u001b[0m\u001b[1;33m,\u001b[0m \u001b[0merr\u001b[0m\u001b[1;33m:\u001b[0m \u001b[1;31m# XXX what error?\u001b[0m\u001b[1;33m\u001b[0m\u001b[0m\n\u001b[0;32m   1176\u001b[0m             \u001b[0mh\u001b[0m\u001b[1;33m.\u001b[0m\u001b[0mclose\u001b[0m\u001b[1;33m(\u001b[0m\u001b[1;33m)\u001b[0m\u001b[1;33m\u001b[0m\u001b[0m\n\u001b[1;32m-> 1177\u001b[1;33m             \u001b[1;32mraise\u001b[0m \u001b[0mURLError\u001b[0m\u001b[1;33m(\u001b[0m\u001b[0merr\u001b[0m\u001b[1;33m)\u001b[0m\u001b[1;33m\u001b[0m\u001b[0m\n\u001b[0m\u001b[0;32m   1178\u001b[0m         \u001b[1;32melse\u001b[0m\u001b[1;33m:\u001b[0m\u001b[1;33m\u001b[0m\u001b[0m\n\u001b[0;32m   1179\u001b[0m             \u001b[1;32mtry\u001b[0m\u001b[1;33m:\u001b[0m\u001b[1;33m\u001b[0m\u001b[0m\n",
        "\u001b[1;31mURLError\u001b[0m: <urlopen error [Errno -2] Name or service not known>"
       ]
      }
     ],
     "prompt_number": 8
    },
    {
     "cell_type": "code",
     "collapsed": false,
     "input": [],
     "language": "python",
     "metadata": {},
     "outputs": [],
     "prompt_number": 9
    },
    {
     "cell_type": "code",
     "collapsed": false,
     "input": [],
     "language": "python",
     "metadata": {},
     "outputs": []
    }
   ],
   "metadata": {}
  }
 ]
}