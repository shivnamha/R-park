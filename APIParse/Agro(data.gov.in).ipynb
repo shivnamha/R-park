{
 "metadata": {
  "name": "",
  "signature": "sha256:f2f0f8441d10610988fa8b476c3eee3c90357c0b0481d1a7311fbc21bc3f8af3"
 },
 "nbformat": 3,
 "nbformat_minor": 0,
 "worksheets": [
  {
   "cells": [
    {
     "cell_type": "code",
     "collapsed": false,
     "input": [
      "import urllib2\n",
      "from BeautifulSoup import BeautifulSoup\n",
      "import pandas\n",
      "# http://data.gov.in/resources/current-daily-price-various-commodities-various-markets-mandis/api  for reference\n",
      "\n",
      "URI=\"http://data.gov.in/api/datastore/resource.json?resource_id=9ef84268-d588-465a-a308-a864a43d0070&api-key=\"\n",
      "MY_KEY=\"10c3c8586080e43d608176beb7ddd1cf\"\n",
      "val = \"&\"+filters['id']=1109504\n",
      "req = urllib2.urlopen(URI+MY_KEY)\n",
      "pd = pandas.io.json.loads(req.read())\n",
      "count = pd['count']\n",
      "rec = pd['records']"
     ],
     "language": "python",
     "metadata": {},
     "outputs": [],
     "prompt_number": 3
    },
    {
     "cell_type": "code",
     "collapsed": false,
     "input": [
      "print rec[0]"
     ],
     "language": "python",
     "metadata": {},
     "outputs": [
      {
       "output_type": "stream",
       "stream": "stdout",
       "text": [
        "{u'arrival_date': u'28/08/2014', u'district': u'Ropar (Rupnagar)', u'commodity': u'Peas Wet', u'variety': u'Other', u'timestamp': u'1409203817', u'max_price': u'4500', u'state': u'Punjab', u'min_price': u'4000', u'modal_price': u'4300', u'id': u'1109504', u'market': u'Morinda'}\n"
       ]
      }
     ],
     "prompt_number": 4
    },
    {
     "cell_type": "code",
     "collapsed": false,
     "input": [
      "URI=\"http://data.gov.in/api/datastore/resource.json?resource_id=9ef84268-d588-465a-a308-a864a43d0070&api-key=\"\n",
      "MY_KEY=\"10c3c8586080e43d608176beb7ddd1cf\"\n",
      "val = \"&\" + \"filters[id]=1109504\"\n",
      "print URI + MY_KEY + val\n",
      "req = urllib2.urlopen(URI+MY_KEY+val)\n",
      "print req.read()"
     ],
     "language": "python",
     "metadata": {},
     "outputs": [
      {
       "output_type": "stream",
       "stream": "stdout",
       "text": [
        "http://data.gov.in/api/datastore/resource.json?resource_id=9ef84268-d588-465a-a308-a864a43d0070&api-key=10c3c8586080e43d608176beb7ddd1cf&filters[id]=1109504\n",
        "{\"help\":\"Search a datastore table. :param resource_id: id or alias of the data that is going to be selected.\",\"success\":false,\"count\":0,\"fields\":{\"id\":{\"type\":\"serial\",\"size\":\"normal\",\"not null\":true,\"description\":\"\"},\"timestamp\":{\"type\":\"int\",\"size\":\"normal\",\"not null\":false,\"description\":\"\"},\"state\":{\"type\":\"varchar\",\"size\":\"normal\",\"length\":\"255\",\"not null\":false,\"description\":\"\"},\"district\":{\"type\":\"varchar\",\"size\":\"normal\",\"length\":\"255\",\"not null\":false,\"description\":\"\"},\"market\":{\"type\":\"varchar\",\"size\":\"normal\",\"length\":\"255\",\"not null\":false,\"description\":\"\"},\"commodity\":{\"type\":\"varchar\",\"size\":\"normal\",\"length\":\"255\",\"not null\":false,\"description\":\"\"},\"variety\":{\"type\":\"varchar\",\"size\":\"normal\",\"length\":\"255\",\"not null\":false,\"description\":\"\"},\"arrival_date\":{\"type\":\"varchar\",\"size\":\"normal\",\"length\":\"255\",\"not null\":false,\"description\":\"\"},\"min_price\":{\"type\":\"float\",\"size\":\"normal\",\"not null\":false,\"description\":\"\"},\"max_price\":{\"type\":\"float\",\"size\":\"normal\",\"not null\":false,\"description\":\"\"},\"modal_price\":{\"type\":\"float\",\"size\":\"normal\",\"not null\":false,\"description\":\"\"}},\"records\":[]}"
       ]
      },
      {
       "output_type": "stream",
       "stream": "stdout",
       "text": [
        "\n"
       ]
      }
     ],
     "prompt_number": 9
    },
    {
     "cell_type": "code",
     "collapsed": false,
     "input": [],
     "language": "python",
     "metadata": {},
     "outputs": [],
     "prompt_number": 6
    },
    {
     "cell_type": "code",
     "collapsed": false,
     "input": [],
     "language": "python",
     "metadata": {},
     "outputs": []
    }
   ],
   "metadata": {}
  }
 ]
}